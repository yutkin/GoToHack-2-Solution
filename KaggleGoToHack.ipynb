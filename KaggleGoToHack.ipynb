{
 "cells": [
  {
   "cell_type": "code",
   "execution_count": null,
   "metadata": {
    "collapsed": true
   },
   "outputs": [],
   "source": [
    "__author__ = 'Dmitry Yutkin'"
   ]
  },
  {
   "cell_type": "code",
   "execution_count": null,
   "metadata": {
    "collapsed": false
   },
   "outputs": [],
   "source": [
    "import pandas as pd\n",
    "import numpy as np\n",
    "import matplotlib.pyplot as plt\n",
    "from collections import defaultdict, Counter\n",
    "\n",
    "from sklearn import preprocessing\n",
    "from sklearn.model_selection import train_test_split, cross_val_score, GridSearchCV\n",
    "from sklearn.metrics import f1_score, accuracy_score, confusion_matrix\n",
    "from sklearn.ensemble import RandomForestClassifier, ExtraTreesClassifier\n",
    "from sklearn import preprocessing\n",
    "from mlxtend.classifier import EnsembleVoteClassifier, StackingClassifier\n",
    "\n",
    "import xgboost as xgb\n",
    "\n",
    "plt.style.use('ggplot')\n",
    "%matplotlib inline"
   ]
  },
  {
   "cell_type": "code",
   "execution_count": null,
   "metadata": {
    "collapsed": true
   },
   "outputs": [],
   "source": [
    "# Read data\n",
    "targets = pd.read_csv('./kaggle/targets.csv')\n",
    "structure = pd.read_csv('./kaggle/structure.csv')\n",
    "events = pd.read_csv('./kaggle/user_activity.csv')\n",
    "events_test = pd.read_csv('./kaggle/user_activity_test.csv')\n",
    "targets = targets[['user_id', 'passed']]"
   ]
  },
  {
   "cell_type": "code",
   "execution_count": null,
   "metadata": {
    "collapsed": true
   },
   "outputs": [],
   "source": [
    "# Preprocessing\n",
    "events = pd.merge(events, targets, on='user_id')\n",
    "events.rename(columns={'step_cost': 'earned_scores'}, inplace=True)\n",
    "events.ix[events['action'] != 'passed', 'earned_scores'] = 0\n",
    "events = events.sort_values(by=['time', 'user_id'])\n",
    "\n",
    "events_test.rename(columns={'step_cost': 'earned_scores'}, inplace=True)\n",
    "events_test.ix[events_test['action'] != 'passed', 'earned_scores'] = 0\n",
    "events_test = events_test.sort_values(by=['time', 'user_id'])\n",
    "\n",
    "structure = structure.sort_values(by=['module_position', 'lesson_position', 'step_position'])\n",
    "\n",
    "# maps step id -> step cost\n",
    "step2cost = {i['step_id']:i['step_cost'] for i in structure[['step_id', 'step_cost']].to_dict('records')}"
   ]
  },
  {
   "cell_type": "code",
   "execution_count": null,
   "metadata": {
    "collapsed": true
   },
   "outputs": [],
   "source": [
    "def compute_earned_score(events, user_features):\n",
    "    \"\"\" Computes users scores \"\"\"\n",
    "    scores = events.groupby(['user_id']).sum().earned_scores\n",
    "    for usr_id, score in scores.items():\n",
    "        user_features[usr_id]['score'] = score\n",
    "    print('Earned score computed.')"
   ]
  },
  {
   "cell_type": "code",
   "execution_count": null,
   "metadata": {
    "collapsed": true
   },
   "outputs": [],
   "source": [
    "def compute_number_of_actions(events, user_features):\n",
    "    \"\"\" Compute number of different actions perfomed by user \"\"\"\n",
    "    actions_count = events[['user_id', 'action']].groupby('user_id').count()\n",
    "    for row in actions_count.itertuples():\n",
    "        user_features[row.Index]['actions_count'] = row.action\n",
    "    print('Number_of_actions computed.')"
   ]
  },
  {
   "cell_type": "code",
   "execution_count": null,
   "metadata": {
    "collapsed": true
   },
   "outputs": [],
   "source": [
    "def compute_solving_stats(events, users):\n",
    "    \"\"\" Compute different statistics of time spent on solving problems \"\"\"\n",
    "    user2steps_seq = defaultdict(lambda : defaultdict(dict)) # map user_id to [sequence of user's visited steps]\n",
    "    for event in events.itertuples():\n",
    "        if event.action == 'viewed' and step2cost[event.step_id] > 0:\n",
    "            if 'viewed' not in user2steps_seq[event.user_id][event.step_id]:\n",
    "                user2steps_seq[event.user_id][event.step_id]['viewed'] = event.time\n",
    "            else:\n",
    "                tmp = user2steps_seq[event.user_id][event.step_id]['viewed']\n",
    "                user2steps_seq[event.user_id][event.step_id]['viewed'] = max(event.time, tmp)\n",
    "        elif event.action == 'passed' and step2cost[event.step_id] > 0:\n",
    "            user2steps_seq[event.user_id][event.step_id]['passed'] = event.time\n",
    "\n",
    "    users_id = events['user_id'].unique()\n",
    "    for id in users_id:\n",
    "        seq_of_steps = user2steps_seq[id]\n",
    "        if seq_of_steps:\n",
    "            time_per_steps = []\n",
    "            for step_id, step_info in seq_of_steps.items():\n",
    "                if 'passed' in step_info and 'viewed' in step_info:\n",
    "                    time = abs(step_info['passed'] - step_info['viewed']) / 60\n",
    "                    time_per_steps.append(time if time else 0.001)\n",
    "            \n",
    "            if not time_per_steps:\n",
    "                time_per_steps.append(10**-10)\n",
    "        \n",
    "            time_per_steps = np.array(time_per_steps)\n",
    "\n",
    "        # here can be harmonic mean, geometric mean, variance, min, max etc.\n",
    "        users[id]['mean_time_to_solve'] = round(np.average(time_per_steps),2) if seq_of_steps else 0.0\n",
    "#          users[id]['max_time_to_solve'] = round(np.max(time_per_steps), 2) if seq_of_steps else 0.0\n",
    "        \n",
    "\n",
    "    print('Solving statistics computed.')"
   ]
  },
  {
   "cell_type": "code",
   "execution_count": null,
   "metadata": {
    "collapsed": false
   },
   "outputs": [],
   "source": [
    "def spent_time2(events, users):\n",
    "    \"\"\" Compute time spent on course \"\"\"\n",
    "    user_info = defaultdict(dict)\n",
    "    for event in events.itertuples():\n",
    "        if event.action != 'viewed': \n",
    "            continue\n",
    "        if 'prev' not in user_info[event.user_id]:\n",
    "            user_info[event.user_id]['prev'] = event.time\n",
    "        else:\n",
    "            prev = user_info[event.user_id]['prev']\n",
    "            diff_min = abs(event.time - prev) / 60\n",
    "            \n",
    "            # heuristic: if time between actions more than 20 min,\n",
    "            # than don't take this span into consideration\n",
    "            if diff_min / 60 <= 20:\n",
    "                if 'spent_t' not in users[event.user_id]:\n",
    "                    users[event.user_id]['spent_t'] = diff_min\n",
    "                else:\n",
    "                    users[event.user_id]['spent_t'] += diff_min\n",
    "            user_info[event.user_id]['prev'] = event.time\n",
    "    \n",
    "    for user_id, parans in users.items():\n",
    "        if 'spent_t' not in users[user_id]:\n",
    "            users[user_id]['spent_t'] = 0\n",
    "        else:\n",
    "            users[user_id]['spent_t'] = round(users[user_id]['spent_t'], 2)\n",
    "    print('Spent time computed.')"
   ]
  },
  {
   "cell_type": "code",
   "execution_count": null,
   "metadata": {
    "collapsed": true
   },
   "outputs": [],
   "source": [
    "def compute_max_diff_between_actions(events, users):\n",
    "    \"\"\" Compute max difference in time between subsequent actions \"\"\"\n",
    "    prev_step = defaultdict(int)\n",
    "    for event in events.itertuples():\n",
    "        uid = event.user_id\n",
    "        if prev_step[uid] == 0:\n",
    "            prev_step[uid] = event.time\n",
    "        else:\n",
    "            if 'max_diff_between_actions' not in users[uid]:\n",
    "                users[uid]['max_diff_between_actions'] = abs(event.time - prev_step[uid]) / 60\n",
    "            else:\n",
    "                users[uid]['max_diff_between_actions'] = max(users[uid]['max_diff_between_actions'], \n",
    "                                                             abs(event.time - prev_step[uid]) / 60)\n",
    "            prev_step[uid] = event.time\n",
    "    for user_id in prev_step.keys():\n",
    "        if 'max_diff_between_actions' not in users[user_id]:\n",
    "            users[user_id]['max_diff_between_actions'] = 0\n",
    "        else:\n",
    "            users[user_id]['max_diff_between_actions'] = round(users[user_id]['max_diff_between_actions'], 2)\n",
    "    print('Max diff between actions computed.')"
   ]
  },
  {
   "cell_type": "code",
   "execution_count": null,
   "metadata": {
    "collapsed": false,
    "scrolled": false
   },
   "outputs": [],
   "source": [
    "train = defaultdict(dict) # maps user_id -> dict of features\n",
    "for user in targets.itertuples():\n",
    "    train[user.user_id]['passed'] = user.passed\n",
    "compute_solving_stats(events, train)\n",
    "compute_earned_score(events, train)\n",
    "compute_number_of_actions(events, train)\n",
    "compute_max_diff_between_actions(events, train)\n",
    "spent_time2(events, train)\n",
    "\n",
    "train = pd.DataFrame.from_dict(train, orient='index')\n",
    "features = [col for col in train.columns if col not in ['passed', 'user_id']]"
   ]
  },
  {
   "cell_type": "code",
   "execution_count": null,
   "metadata": {
    "collapsed": false
   },
   "outputs": [],
   "source": [
    "# Drop outliers\n",
    "# Users that ultimately passed course, but in first two weeks\n",
    "# have performed less than 10 actions, spent less than 5 minutes\n",
    "# and haven't earned any score - should be dropped\n",
    "train = train.drop(train[(train.passed == 1) & (train['actions_count'] < 10)].index)\n",
    "train = train.drop(train[(train.passed == 1) & (train['spent_t'] < 5)].index)\n",
    "train = train.drop(train[(train.passed == 1) & (train['score'] == 0)].index)\n",
    "\n",
    "# Users, who have performed good enough in first two weeks,\n",
    "# but eventually haven't passed the course, shoulde be dropped\n",
    "train = train.drop(train[(train.passed == 0) & (train['score'] > train[train.passed == 1].score.median())].index)"
   ]
  },
  {
   "cell_type": "code",
   "execution_count": null,
   "metadata": {
    "collapsed": false
   },
   "outputs": [],
   "source": [
    "trainX = train[features]\n",
    "trainY = train['passed']"
   ]
  },
  {
   "cell_type": "code",
   "execution_count": null,
   "metadata": {
    "collapsed": false
   },
   "outputs": [],
   "source": [
    "clf = xgb.XGBClassifier(n_estimators=1500, max_depth=3, learning_rate=0.01)"
   ]
  },
  {
   "cell_type": "code",
   "execution_count": null,
   "metadata": {
    "collapsed": false,
    "scrolled": true
   },
   "outputs": [],
   "source": [
    "scores = cross_val_score(clf, trainX, trainY, cv=5, scoring='f1')\n",
    "print(\"CV F1: %0.3f (+/- %0.3f)\" % (scores.mean(), scores.std() * 2))\n",
    "print(scores)"
   ]
  },
  {
   "cell_type": "code",
   "execution_count": null,
   "metadata": {
    "collapsed": false,
    "scrolled": true
   },
   "outputs": [],
   "source": [
    "clf.fit(trainX, trainY)"
   ]
  },
  {
   "cell_type": "code",
   "execution_count": null,
   "metadata": {
    "collapsed": false
   },
   "outputs": [],
   "source": [
    "importances = clf.feature_importances_\n",
    "indices = np.argsort(importances)[::-1]\n",
    "print(\"Feature ranking:\")\n",
    "for f in range(trainX.shape[1]):\n",
    "    print('%d. feature \"%s\" (%f)' % (f + 1, features[indices[f]], importances[indices[f]]))"
   ]
  },
  {
   "cell_type": "code",
   "execution_count": null,
   "metadata": {
    "collapsed": false,
    "scrolled": true
   },
   "outputs": [],
   "source": [
    "test = defaultdict(dict)\n",
    "\n",
    "compute_solving_stats(events_test, test)\n",
    "compute_earned_score(events_test, test)\n",
    "compute_number_of_actions(events_test, test)\n",
    "compute_max_diff_between_actions(events_test, test)\n",
    "spent_time2(events_test, test)\n",
    "\n",
    "test = pd.DataFrame.from_dict(test, orient='index')\n",
    "test = test[trainX.columns]"
   ]
  },
  {
   "cell_type": "code",
   "execution_count": null,
   "metadata": {
    "collapsed": true
   },
   "outputs": [],
   "source": [
    "def create_submission(X, name):\n",
    "    np.savetxt('%s.csv' % name, X, delimiter=',', fmt=\"%d\", header='user_id,passed', comments='')\n",
    "def getX(ev):\n",
    "    sc  = ev.groupby('user_id')\n",
    "    return sc.sum().index"
   ]
  },
  {
   "cell_type": "code",
   "execution_count": null,
   "metadata": {
    "collapsed": true
   },
   "outputs": [],
   "source": [
    "ind_test = getX(events_test)"
   ]
  },
  {
   "cell_type": "code",
   "execution_count": null,
   "metadata": {
    "collapsed": false
   },
   "outputs": [],
   "source": [
    "ans = clf.predict(test)\n",
    "result = np.concatenate((np.asarray(ind_test, dtype=int).reshape(-1, 1), np.asarray(ans, dtype=int).reshape(-1, 1)), axis=1)\n",
    "create_submission(result, 'kekmda'\n",
    "Counter(ans)"
   ]
  }
 ],
 "metadata": {
  "anaconda-cloud": {},
  "kernelspec": {
   "display_name": "Python [conda root]",
   "language": "python",
   "name": "conda-root-py"
  },
  "language_info": {
   "codemirror_mode": {
    "name": "ipython",
    "version": 3
   },
   "file_extension": ".py",
   "mimetype": "text/x-python",
   "name": "python",
   "nbconvert_exporter": "python",
   "pygments_lexer": "ipython3",
   "version": "3.5.2"
  }
 },
 "nbformat": 4,
 "nbformat_minor": 1
}
